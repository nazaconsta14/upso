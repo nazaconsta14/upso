{
  "nbformat": 4,
  "nbformat_minor": 0,
  "metadata": {
    "colab": {
      "provenance": [],
      "authorship_tag": "ABX9TyOgQ9lcCF/QNB7MVy0vMc8X",
      "include_colab_link": true
    },
    "kernelspec": {
      "name": "python3",
      "display_name": "Python 3"
    },
    "language_info": {
      "name": "python"
    }
  },
  "cells": [
    {
      "cell_type": "markdown",
      "metadata": {
        "id": "view-in-github",
        "colab_type": "text"
      },
      "source": [
        "<a href=\"https://colab.research.google.com/github/nazaconsta14/upso/blob/main/Untitled4.ipynb\" target=\"_parent\"><img src=\"https://colab.research.google.com/assets/colab-badge.svg\" alt=\"Open In Colab\"/></a>"
      ]
    },
    {
      "cell_type": "code",
      "source": [
        "# Empezamos la importacion del archivo csv para trabajar\n",
        "from google.colab import files\n",
        "files.upload()\n"
      ],
      "metadata": {
        "id": "9uRi8W7wtY8h"
      },
      "execution_count": null,
      "outputs": []
    },
    {
      "cell_type": "code",
      "source": [
        "import pandas as pd\n",
        "from sklearn.cluster import KMeans\n",
        "from sklearn.preprocessing import StandardScaler\n",
        "\n",
        "# Realizamos la importacion\n",
        "df = pd.read_csv('Crimenes.csv')\n",
        "\n",
        "\n",
        "# Hacemos una lista con los nombres de los estados de Estados Unidos\n",
        "estados_usa = [\n",
        "    \"Alabama\", \"Alaska\", \"Arizona\", \"Arkansas\", \"California\", \"Colorado\",\n",
        "    \"Connecticut\", \"Delaware\", \"Florida\", \"Georgia\", \"Hawaii\", \"Idaho\",\n",
        "    \"Illinois\", \"Indiana\", \"Iowa\", \"Kansas\", \"Kentucky\", \"Louisiana\", \"Maine\",\n",
        "    \"Maryland\", \"Massachusetts\", \"Michigan\", \"Minnesota\", \"Mississippi\",\n",
        "    \"Missouri\", \"Montana\", \"Nebraska\", \"Nevada\", \"New Hampshire\", \"New Jersey\",\n",
        "    \"New Mexico\", \"New York\", \"North Carolina\", \"North Dakota\", \"Ohio\", \"Oklahoma\",\n",
        "    \"Oregon\", \"Pennsylvania\", \"Rhode Island\", \"South Carolina\", \"South Dakota\",\n",
        "    \"Tennessee\", \"Texas\", \"Utah\", \"Vermont\", \"Virginia\", \"Washington\",\n",
        "    \"West Virginia\", \"Wisconsin\", \"Wyoming\"\n",
        "]\n",
        "# Analizamos el conunto de datos\n",
        "df.head()\n",
        "df.describe()"
      ],
      "metadata": {
        "id": "JimDtbsotb17"
      },
      "execution_count": null,
      "outputs": []
    },
    {
      "cell_type": "code",
      "source": [
        "# Crear un DataFrame para los nombres de los estados\n",
        "df_estados = pd.DataFrame({'NombreEstado': estados_usa})\n",
        "\n",
        "# Fusionar los DataFrames para obtener nombres de estados\n",
        "df_final = pd.merge(df, df_estados, left_index=True, right_index=True)"
      ],
      "metadata": {
        "id": "f3lL4u8JvkaB"
      },
      "execution_count": null,
      "outputs": []
    },
    {
      "cell_type": "code",
      "source": [
        "# Seleccionar características relevantes\n",
        "X = df[['Asesinatos', 'Asaltos', 'Poblacion Urbana', 'Violaciones']]\n",
        "\n",
        "# Normalizar los datos\n",
        "scaler = StandardScaler()\n",
        "X_scaled = scaler.fit_transform(X)\n",
        "\n",
        "# Entrenar el modelo de clustering (K-Means)\n",
        "kmeans = KMeans(n_clusters=2, random_state=42)\n",
        "df['Cluster'] = kmeans.fit_predict(X_scaled)\n",
        "\n",
        "\n",
        "# Mostrar la asignación de clusters con nombres de estados\n",
        "for estado, cluster in zip(df_final['NombreEstado'], df_final['Cluster']):\n",
        "    print(f\"{estado}: {cluster}\")\n"
      ],
      "metadata": {
        "colab": {
          "base_uri": "https://localhost:8080/"
        },
        "id": "hUsW6Wi_u8Ez",
        "outputId": "f205d96b-77c3-4f87-c80c-7a4a33aaf133"
      },
      "execution_count": null,
      "outputs": [
        {
          "output_type": "stream",
          "name": "stdout",
          "text": [
            "Alabama: 1\n",
            "Alaska: 1\n",
            "Arizona: 1\n",
            "Arkansas: 0\n",
            "California: 1\n",
            "Colorado: 1\n",
            "Connecticut: 0\n",
            "Delaware: 0\n",
            "Florida: 1\n",
            "Georgia: 1\n",
            "Hawaii: 0\n",
            "Idaho: 0\n",
            "Illinois: 1\n",
            "Indiana: 0\n",
            "Iowa: 0\n",
            "Kansas: 0\n",
            "Kentucky: 0\n",
            "Louisiana: 1\n",
            "Maine: 0\n",
            "Maryland: 1\n",
            "Massachusetts: 0\n",
            "Michigan: 1\n",
            "Minnesota: 0\n",
            "Mississippi: 1\n",
            "Missouri: 1\n",
            "Montana: 0\n",
            "Nebraska: 0\n",
            "Nevada: 1\n",
            "New Hampshire: 0\n",
            "New Jersey: 0\n",
            "New Mexico: 1\n",
            "New York: 1\n",
            "North Carolina: 1\n",
            "North Dakota: 0\n",
            "Ohio: 0\n",
            "Oklahoma: 0\n",
            "Oregon: 0\n",
            "Pennsylvania: 0\n",
            "Rhode Island: 0\n",
            "South Carolina: 1\n",
            "South Dakota: 0\n",
            "Tennessee: 1\n",
            "Texas: 1\n",
            "Utah: 0\n",
            "Vermont: 0\n",
            "Virginia: 0\n",
            "Washington: 0\n",
            "West Virginia: 0\n",
            "Wisconsin: 0\n",
            "Wyoming: 0\n"
          ]
        },
        {
          "output_type": "stream",
          "name": "stderr",
          "text": [
            "/usr/local/lib/python3.10/dist-packages/sklearn/cluster/_kmeans.py:870: FutureWarning: The default value of `n_init` will change from 10 to 'auto' in 1.4. Set the value of `n_init` explicitly to suppress the warning\n",
            "  warnings.warn(\n"
          ]
        }
      ]
    }
  ]
}