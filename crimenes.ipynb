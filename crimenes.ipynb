{
  "nbformat": 4,
  "nbformat_minor": 0,
  "metadata": {
    "colab": {
      "provenance": [],
      "authorship_tag": "ABX9TyNbISjtFny1w27fZY4jYEgg",
      "include_colab_link": true
    },
    "kernelspec": {
      "name": "python3",
      "display_name": "Python 3"
    },
    "language_info": {
      "name": "python"
    }
  },
  "cells": [
    {
      "cell_type": "markdown",
      "metadata": {
        "id": "view-in-github",
        "colab_type": "text"
      },
      "source": [
        "<a href=\"https://colab.research.google.com/github/nazaconsta14/upso/blob/main/crimenes.ipynb\" target=\"_parent\"><img src=\"https://colab.research.google.com/assets/colab-badge.svg\" alt=\"Open In Colab\"/></a>"
      ]
    },
    {
      "cell_type": "code",
      "source": [
        "from google.colab import files\n",
        "files.upload()"
      ],
      "metadata": {
        "id": "6ND-ys8idDc3"
      },
      "execution_count": null,
      "outputs": []
    },
    {
      "cell_type": "code",
      "source": [
        "import pandas as pd\n",
        "import numpy as np\n",
        "from sklearn.cluster import KMeans\n",
        "import matplotlib.pyplot as plt\n",
        "import seaborn as sns\n",
        "# Cargar el conjunto de datos\n",
        "data = pd.read_csv(\"Crimenes (1).csv\")\n",
        "data.rename(columns={'Estado':'Nombre del Estado', 'Asesinatos':'Cantidad de Asesinatos', 'Asaltos':'Cantidad de Asaltos', 'Violaciones':'Cantidad de Violaciones'}, inplace=True)\n"
      ],
      "metadata": {
        "id": "2czmTe0Zc-Vx"
      },
      "execution_count": 8,
      "outputs": []
    },
    {
      "cell_type": "code",
      "execution_count": null,
      "metadata": {
        "id": "uZQobPVDbL7J"
      },
      "outputs": [],
      "source": [
        "\n",
        "# Selección de características\n",
        "X = data[['Cantidad de Asesinatos', 'Cantidad de Asaltos', 'Cantidad de Violaciones']]\n",
        "\n",
        "# Escalado de las características\n",
        "from sklearn.preprocessing import StandardScaler\n",
        "scaler = StandardScaler()\n",
        "X_scaled = scaler.fit_transform(X)\n",
        "\n",
        "# Clustering (K-Means)\n",
        "kmeans = KMeans(n_clusters=3, random_state=42)\n",
        "kmeans.fit(X_scaled)\n",
        "\n",
        "# Asignación de clusters a los estados\n",
        "data['Cluster'] = kmeans.fit_predict(X_scaled)\n",
        "\n",
        "# DataFrame con el nombre del estado, el nombre del grupo de delitos y el valor del clúster al que pertenece\n",
        "data_final = data[['Nombre del Estado', 'Cluster']]\n",
        "data_final['Grupo de Delitos'] = data_final['Cluster'].apply(lambda x: 'Baja peligrosidad' if x == 0 else 'Mediana peligrosidad' if x == 1 else 'Alta peligrosidad')\n",
        "\n",
        "# Visualización del DataFrame\n",
        "display(data_final)"
      ]
    }
  ]
}