{
  "nbformat": 4,
  "nbformat_minor": 0,
  "metadata": {
    "colab": {
      "provenance": [],
      "include_colab_link": true
    },
    "kernelspec": {
      "name": "python3",
      "display_name": "Python 3"
    },
    "language_info": {
      "name": "python"
    }
  },
  "cells": [
    {
      "cell_type": "markdown",
      "metadata": {
        "id": "view-in-github",
        "colab_type": "text"
      },
      "source": [
        "<a href=\"https://colab.research.google.com/github/nazaconsta14/upso/blob/main/crimenes.ipynb\" target=\"_parent\"><img src=\"https://colab.research.google.com/assets/colab-badge.svg\" alt=\"Open In Colab\"/></a>"
      ]
    },
    {
      "cell_type": "code",
      "source": [
        "# Empezamos la importacion del archivo csv para trabajar\n",
        "from google.colab import files\n",
        "files.upload()\n"
      ],
      "metadata": {
        "id": "9uRi8W7wtY8h"
      },
      "execution_count": null,
      "outputs": []
    },
    {
      "cell_type": "code",
      "source": [
        "import pandas as pd\n",
        "from sklearn.cluster import KMeans\n",
        "from sklearn.preprocessing import StandardScaler\n",
        "import matplotlib.pyplot as plt\n",
        "\n",
        "# Realizamos la importacion\n",
        "df = pd.read_csv('Crimenes.csv')\n",
        "\n",
        "estados_usa = [\n",
        "    \"Alabama\", \"Alaska\", \"Arizona\", \"Arkansas\", \"California\", \"Colorado\",\n",
        "    \"Connecticut\", \"Delaware\", \"Florida\", \"Georgia\", \"Hawaii\", \"Idaho\",\n",
        "    \"Illinois\", \"Indiana\", \"Iowa\", \"Kansas\", \"Kentucky\", \"Louisiana\", \"Maine\",\n",
        "    \"Maryland\", \"Massachusetts\", \"Michigan\", \"Minnesota\", \"Mississippi\",\n",
        "    \"Missouri\", \"Montana\", \"Nebraska\", \"Nevada\", \"New Hampshire\", \"New Jersey\",\n",
        "    \"New Mexico\", \"New York\", \"North Carolina\", \"North Dakota\", \"Ohio\", \"Oklahoma\",\n",
        "    \"Oregon\", \"Pennsylvania\", \"Rhode Island\", \"South Carolina\", \"South Dakota\",\n",
        "    \"Tennessee\", \"Texas\", \"Utah\", \"Vermont\", \"Virginia\", \"Washington\",\n",
        "    \"West Virginia\", \"Wisconsin\", \"Wyoming\"\n",
        "]\n",
        "# Analizamos el conunto de datos\n",
        "df.head()\n",
        "df.describe()"
      ],
      "metadata": {
        "id": "JimDtbsotb17"
      },
      "execution_count": null,
      "outputs": []
    },
    {
      "cell_type": "code",
      "source": [
        "\n",
        "# Crear un DataFrame para los nombres de los estados\n",
        "df_estados = pd.DataFrame({'NombreEstado': estados_usa})\n",
        "\n",
        "# Fusionar los DataFrames para obtener nombres de estados\n",
        "df_final = pd.merge(df, df_estados, left_index=True, right_index=True)\n",
        "\n",
        "# Seleccionar características relevantes\n",
        "X = df[['Asesinatos', 'Asaltos', 'Poblacion Urbana', 'Violaciones']]\n",
        "\n",
        "# Normalizar los datos\n",
        "scaler = StandardScaler()\n",
        "X_scaled = scaler.fit_transform(X)\n",
        "\n",
        "# Buscar la cantidad óptima de clusters\n",
        "wcss = []\n",
        "for i in range(1, 11):\n",
        "    kmeans = KMeans(n_clusters=i, random_state=42)\n",
        "    kmeans.fit(X_scaled)\n",
        "    wcss.append(kmeans.inertia_)\n",
        "\n",
        "# Graficar el codo\n",
        "plt.plot(range(1, 11), wcss)\n",
        "plt.xlabel('Número de clusters')\n",
        "plt.ylabel('WCSS')\n",
        "plt.show()"
      ],
      "metadata": {
        "id": "in645a0zVuaD"
      },
      "execution_count": null,
      "outputs": []
    },
    {
      "cell_type": "code",
      "source": [
        "# Análisis de los clusters\n",
        "\n",
        "# Cluster 0\n",
        "df_cluster0 = df.loc[df['Cluster'] == 0]\n",
        "print(f\"Cluster 0:\")\n",
        "print(df_cluster0.describe())\n",
        "\n",
        "# Cluster 1\n",
        "df_cluster1 = df.loc[df['Cluster'] == 1]\n",
        "print(f\"Cluster 1:\")\n",
        "print(df_cluster1.describe())\n",
        "\n",
        "# Cluster 2\n",
        "df_cluster2 = df.loc[df['Cluster'] == 2]\n",
        "print(f\"Cluster 2:\")\n",
        "print(df_cluster2.describe())\n"
      ],
      "metadata": {
        "colab": {
          "base_uri": "https://localhost:8080/"
        },
        "id": "mx46h-plVkEv",
        "outputId": "bac86238-0e36-4c64-d5c8-95441939eb31"
      },
      "execution_count": 11,
      "outputs": [
        {
          "output_type": "stream",
          "name": "stdout",
          "text": [
            "Cluster 0:\n",
            "       Asesinatos     Asaltos  Poblacion Urbana  Violaciones  Cluster\n",
            "count   16.000000   16.000000         16.000000    16.000000     16.0\n",
            "mean     5.656250  138.875000         73.875000    18.781250      0.0\n",
            "std      1.647207   41.175842          8.935883     5.236439      0.0\n",
            "min      3.200000   46.000000         60.000000     8.300000      0.0\n",
            "25%      4.300000  114.500000         66.750000    15.750000      0.0\n",
            "50%      5.950000  147.000000         72.500000    19.400000      0.0\n",
            "75%      6.900000  159.000000         80.750000    21.100000      0.0\n",
            "max      8.500000  238.000000         89.000000    29.300000      0.0\n",
            "Cluster 1:\n",
            "       Asesinatos    Asaltos  Poblacion Urbana  Violaciones  Cluster\n",
            "count   20.000000   20.00000         20.000000    20.000000     20.0\n",
            "mean    12.165000  255.25000         68.400000    29.165000      1.0\n",
            "std      2.684904   44.11692         14.463748     8.386473      0.0\n",
            "min      7.900000  178.00000         44.000000    16.100000      1.0\n",
            "25%     10.300000  229.75000         58.750000    23.625000      1.0\n",
            "50%     12.150000  254.50000         70.000000    27.350000      1.0\n",
            "75%     13.500000  280.50000         80.000000    32.850000      1.0\n",
            "max     17.400000  337.00000         91.000000    46.000000      1.0\n",
            "Cluster 2:\n",
            "       Asesinatos     Asaltos  Poblacion Urbana  Violaciones  Cluster\n",
            "count   14.000000   14.000000         14.000000    14.000000     14.0\n",
            "mean     3.971429   86.500000         51.928571    12.700000      2.0\n",
            "std      2.661529   38.697545          9.706970     3.692196      0.0\n",
            "min      0.800000   45.000000         32.000000     7.300000      2.0\n",
            "25%      2.200000   56.250000         46.250000     9.825000      2.0\n",
            "50%      2.650000   82.000000         52.500000    12.050000      2.0\n",
            "75%      5.350000  107.250000         56.750000    15.950000      2.0\n",
            "max      9.700000  190.000000         66.000000    19.500000      2.0\n"
          ]
        }
      ]
    },
    {
      "cell_type": "code",
      "source": [
        "# Elegir la cantidad óptima de clusters\n",
        "n_clusters = 3\n",
        "\n",
        "# Entrenar el modelo de clustering (K-Means)\n",
        "kmeans = KMeans(n_clusters=n_clusters, random_state=42)\n",
        "kmeans.fit(X_scaled)\n",
        "df_cluster2 = kmeans.fit_predict(X_scaled)\n",
        "df_cluster0 = kmeans.fit_predict(X_scaled)\n",
        "df_cluster1 = kmeans.fit_predict(X_scaled)\n",
        "# Mostrar la asignación de clusters con nombres de estados\n",
        "for estado, cluster in zip(df_final['NombreEstado'],df_cluster0):\n",
        "  print(f\"{estado}: {cluster}\")"
      ],
      "metadata": {
        "colab": {
          "base_uri": "https://localhost:8080/"
        },
        "id": "nLpZLbFOV0k6",
        "outputId": "6b071d6e-a309-41cc-87c3-4dbf0ccd2487"
      },
      "execution_count": 24,
      "outputs": [
        {
          "output_type": "stream",
          "name": "stdout",
          "text": [
            "Alabama: 1\n",
            "Alaska: 1\n",
            "Arizona: 1\n",
            "Arkansas: 2\n",
            "California: 1\n",
            "Colorado: 1\n",
            "Connecticut: 0\n",
            "Delaware: 0\n",
            "Florida: 1\n",
            "Georgia: 1\n",
            "Hawaii: 0\n",
            "Idaho: 2\n",
            "Illinois: 1\n",
            "Indiana: 0\n",
            "Iowa: 2\n",
            "Kansas: 0\n",
            "Kentucky: 2\n",
            "Louisiana: 1\n",
            "Maine: 2\n",
            "Maryland: 1\n",
            "Massachusetts: 0\n",
            "Michigan: 1\n",
            "Minnesota: 2\n",
            "Mississippi: 1\n",
            "Missouri: 1\n",
            "Montana: 2\n",
            "Nebraska: 2\n",
            "Nevada: 1\n",
            "New Hampshire: 2\n",
            "New Jersey: 0\n",
            "New Mexico: 1\n",
            "New York: 1\n",
            "North Carolina: 1\n",
            "North Dakota: 2\n",
            "Ohio: 0\n",
            "Oklahoma: 0\n",
            "Oregon: 0\n",
            "Pennsylvania: 0\n",
            "Rhode Island: 0\n",
            "South Carolina: 1\n",
            "South Dakota: 2\n",
            "Tennessee: 1\n",
            "Texas: 1\n",
            "Utah: 0\n",
            "Vermont: 2\n",
            "Virginia: 0\n",
            "Washington: 0\n",
            "West Virginia: 2\n",
            "Wisconsin: 2\n",
            "Wyoming: 0\n"
          ]
        },
        {
          "output_type": "stream",
          "name": "stderr",
          "text": [
            "/usr/local/lib/python3.10/dist-packages/sklearn/cluster/_kmeans.py:870: FutureWarning: The default value of `n_init` will change from 10 to 'auto' in 1.4. Set the value of `n_init` explicitly to suppress the warning\n",
            "  warnings.warn(\n",
            "/usr/local/lib/python3.10/dist-packages/sklearn/cluster/_kmeans.py:870: FutureWarning: The default value of `n_init` will change from 10 to 'auto' in 1.4. Set the value of `n_init` explicitly to suppress the warning\n",
            "  warnings.warn(\n",
            "/usr/local/lib/python3.10/dist-packages/sklearn/cluster/_kmeans.py:870: FutureWarning: The default value of `n_init` will change from 10 to 'auto' in 1.4. Set the value of `n_init` explicitly to suppress the warning\n",
            "  warnings.warn(\n",
            "/usr/local/lib/python3.10/dist-packages/sklearn/cluster/_kmeans.py:870: FutureWarning: The default value of `n_init` will change from 10 to 'auto' in 1.4. Set the value of `n_init` explicitly to suppress the warning\n",
            "  warnings.warn(\n"
          ]
        }
      ]
    }
  ]
}