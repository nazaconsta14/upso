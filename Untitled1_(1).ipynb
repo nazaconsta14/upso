{
  "nbformat": 4,
  "nbformat_minor": 0,
  "metadata": {
    "colab": {
      "provenance": [],
      "include_colab_link": true
    },
    "kernelspec": {
      "name": "python3",
      "display_name": "Python 3"
    },
    "language_info": {
      "name": "python"
    }
  },
  "cells": [
    {
      "cell_type": "markdown",
      "metadata": {
        "id": "view-in-github",
        "colab_type": "text"
      },
      "source": [
        "<a href=\"https://colab.research.google.com/github/nazaconsta14/upso/blob/main/Untitled1_(1).ipynb\" target=\"_parent\"><img src=\"https://colab.research.google.com/assets/colab-badge.svg\" alt=\"Open In Colab\"/></a>"
      ]
    },
    {
      "cell_type": "code",
      "execution_count": null,
      "metadata": {
        "id": "Z3mpWH_rp_M_"
      },
      "outputs": [],
      "source": [
        "# Importe de librerias para trabajar\n",
        "import numpy as np\n",
        "import pandas as pd\n",
        "from sklearn.model_selection import train_test_split\n",
        "from sklearn.model_selection import KFold\n",
        "from sklearn.metrics import confusion_matrix\n",
        "from sklearn.metrics import precision_recall_fscore_support\n",
        "\n",
        "from sklearn.neighbors import KNeighborsClassifier\n",
        "from sklearn.svm import SVC\n",
        "from sklearn.tree import DecisionTreeClassifier\n",
        "from sklearn.naive_bayes import GaussianNB"
      ]
    },
    {
      "cell_type": "code",
      "source": [
        "# Empezamos la importacion del archivo csv para trabajar\n",
        "from google.colab import files\n",
        "files.upload()\n"
      ],
      "metadata": {
        "id": "u4e4MIJDr5R_"
      },
      "execution_count": null,
      "outputs": []
    },
    {
      "cell_type": "code",
      "source": [
        "# Realizamos la importacion\n",
        "df = pd.read_csv('Canciones_Spotify.csv')"
      ],
      "metadata": {
        "id": "HXo5UP2dqDce"
      },
      "execution_count": null,
      "outputs": []
    },
    {
      "cell_type": "code",
      "source": [
        "# Analizamos el conunto de datos\n",
        "df.head()\n",
        "df.describe()"
      ],
      "metadata": {
        "id": "lBCGvzhQqHKN"
      },
      "execution_count": null,
      "outputs": []
    },
    {
      "cell_type": "code",
      "source": [
        "# Agregamos la columna \"destino\" al conjunto de datos\n",
        "df['destino'] = df['target']"
      ],
      "metadata": {
        "id": "zvLvTcBfssCO"
      },
      "execution_count": null,
      "outputs": []
    },
    {
      "cell_type": "code",
      "source": [
        "# Elegimos las caracteristicas para el entrenamiento\n",
        "features = ['danceability', 'energy', 'loudness', 'speechiness', 'acousticness', 'instrumentalness', 'liveness', 'valence', 'tempo']\n"
      ],
      "metadata": {
        "id": "h0O1W9JhqKX5"
      },
      "execution_count": null,
      "outputs": []
    },
    {
      "cell_type": "code",
      "source": [
        "# Entrenamos los modelos\n",
        "X_train, X_test, y_train, y_test = train_test_split(df[features], df['destino'], test_size=0.25, random_state=42)\n"
      ],
      "metadata": {
        "id": "NXqYgLelqUMk"
      },
      "execution_count": null,
      "outputs": []
    },
    {
      "cell_type": "code",
      "source": [
        "# Entrenamos los modelos\n",
        "models = {}\n",
        "\n",
        "# KNN\n",
        "models['knn'] = KNeighborsClassifier(n_neighbors=5)\n",
        "\n",
        "# SVM\n",
        "models['svm'] = SVC(kernel='rbf')\n",
        "\n",
        "# Árbol de decisión\n",
        "models['tree'] = DecisionTreeClassifier()\n",
        "\n",
        "# Bayes\n",
        "models['bayes'] = GaussianNB()\n",
        "\n",
        "# Otro modelo\n",
        "# ...\n",
        "\n",
        "# Entrenar los modelos\n",
        "for model_name, model in models.items():\n",
        "    model.fit(X_train, y_train)"
      ],
      "metadata": {
        "id": "XfaeIJn0qX0b"
      },
      "execution_count": null,
      "outputs": []
    },
    {
      "cell_type": "code",
      "source": [
        "# Aca se evaluan los modelos\n",
        "for model_name, model in models.items():\n",
        "    y_pred = model.predict(X_test)\n",
        "\n",
        "    # Esta es la matriz de confusión\n",
        "    cm = confusion_matrix(y_test, y_pred)\n",
        "\n",
        "    # Aca se ve la precisión, recall y F1-score\n",
        "    precision, recall, f1_score, _ = precision_recall_fscore_support(y_test, y_pred)\n",
        "\n",
        "    # Y aca se imprimen los resultados\n",
        "    print('Modelo:', model_name)\n",
        "    print('Matriz de confusión:')\n",
        "    print(cm)\n",
        "    print('Precisión:', precision)\n",
        "    print('Recall:', recall)\n",
        "    print('F1-score:', f1_score)"
      ],
      "metadata": {
        "id": "dPWEP71VqZ7J"
      },
      "execution_count": null,
      "outputs": []
    }
  ]
}