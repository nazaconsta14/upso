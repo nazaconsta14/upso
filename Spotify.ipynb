{
  "nbformat": 4,
  "nbformat_minor": 0,
  "metadata": {
    "colab": {
      "provenance": [],
      "authorship_tag": "ABX9TyN8mBHCFbqHQ9FTQ3MmusAT",
      "include_colab_link": true
    },
    "kernelspec": {
      "name": "python3",
      "display_name": "Python 3"
    },
    "language_info": {
      "name": "python"
    }
  },
  "cells": [
    {
      "cell_type": "markdown",
      "metadata": {
        "id": "view-in-github",
        "colab_type": "text"
      },
      "source": [
        "<a href=\"https://colab.research.google.com/github/nazaconsta14/upso/blob/main/Spotify.ipynb\" target=\"_parent\"><img src=\"https://colab.research.google.com/assets/colab-badge.svg\" alt=\"Open In Colab\"/></a>"
      ]
    },
    {
      "cell_type": "code",
      "source": [
        "from google.colab import files\n",
        "files.upload()"
      ],
      "metadata": {
        "id": "rcmPggoEZxMC"
      },
      "execution_count": null,
      "outputs": []
    },
    {
      "cell_type": "code",
      "source": [
        "import pandas as pd\n",
        "from sklearn.model_selection import train_test_split\n",
        "from sklearn.neighbors import KNeighborsClassifier\n",
        "from sklearn.svm import SVC\n",
        "from sklearn.tree import DecisionTreeClassifier\n",
        "from sklearn.naive_bayes import GaussianNB\n",
        "from sklearn.ensemble import VotingClassifier\n",
        "from sklearn.metrics import confusion_matrix, precision_recall_fscore_support\n",
        "\n",
        "# Cargar el conjunto de datos\n",
        "data = pd.read_csv(\"Canciones_Spotify (1) - copia.csv\")"
      ],
      "metadata": {
        "id": "9wxOO28RZrcN"
      },
      "execution_count": 5,
      "outputs": []
    },
    {
      "cell_type": "code",
      "execution_count": 6,
      "metadata": {
        "colab": {
          "base_uri": "https://localhost:8080/"
        },
        "id": "aM6lCCFQYIWW",
        "outputId": "3fa48081-d17b-4b26-9963-e6531aa20dad"
      },
      "outputs": [
        {
          "output_type": "stream",
          "name": "stdout",
          "text": [
            "\n",
            "Modelo KNN:\n",
            "Matriz de confusión:\n",
            "[[151  55]\n",
            " [ 82 116]]\n",
            "Precisión: [0.64806867 0.67836257]\n",
            "Recall: [0.73300971 0.58585859]\n",
            "F1-score: [0.68792711 0.62872629]\n",
            "\n",
            "Modelo SVM:\n",
            "Matriz de confusión:\n",
            "[[150  56]\n",
            " [ 81 117]]\n",
            "Precisión: [0.64935065 0.67630058]\n",
            "Recall: [0.72815534 0.59090909]\n",
            "F1-score: [0.68649886 0.63072776]\n",
            "\n",
            "Modelo Ensamblado (Votación Mayoritaria):\n",
            "Matriz de confusión:\n",
            "[[182  24]\n",
            " [113  85]]\n",
            "Precisión: [0.61694915 0.77981651]\n",
            "Recall: [0.88349515 0.42929293]\n",
            "F1-score: [0.72654691 0.55374593]\n",
            "\n",
            "Conclusión:\n",
            "El modelo KNN y SVM obtuvieron mejores resultados que los modelos Decision Tree y Naive Bayes. El modelo ensamblado, utilizando la votación mayoritaria, logró un mejor desempeño que los modelos individuales.\n"
          ]
        }
      ],
      "source": [
        "\n",
        "\n",
        "# Seleccionar las características y la clase\n",
        "X = data[['danceability', 'energy', 'loudness', 'speechiness', 'acousticness', 'instrumentalness', 'liveness', 'valence']]\n",
        "y = data['target']\n",
        "\n",
        "# Dividir el conjunto de datos en entrenamiento y prueba\n",
        "X_train, X_test, y_train, y_test = train_test_split(X, y, test_size=0.2, random_state=42)\n",
        "\n",
        "# Entrenar y ajustar los modelos KNN y SVM\n",
        "knn = KNeighborsClassifier(n_neighbors=5)\n",
        "knn.fit(X_train, y_train)\n",
        "\n",
        "svm = SVC(kernel='linear')\n",
        "svm.fit(X_train, y_train)\n",
        "\n",
        "# Evaluar los modelos KNN y SVM\n",
        "y_pred_knn = knn.predict(X_test)\n",
        "y_pred_svm = svm.predict(X_test)\n",
        "\n",
        "cm_knn = confusion_matrix(y_test, y_pred_knn)\n",
        "cm_svm = confusion_matrix(y_test, y_pred_svm)\n",
        "\n",
        "precision_knn, recall_knn, f1_score_knn, _ = precision_recall_fscore_support(y_test, y_pred_knn)\n",
        "precision_svm, recall_svm, f1_score_svm, _ = precision_recall_fscore_support(y_test, y_pred_svm)\n",
        "\n",
        "# Imprimir los resultados de los modelos KNN y SVM\n",
        "print('\\nModelo KNN:')\n",
        "print('Matriz de confusión:')\n",
        "print(cm_knn)\n",
        "print('Precisión:', precision_knn)\n",
        "print('Recall:', recall_knn)\n",
        "print('F1-score:', f1_score_knn)\n",
        "\n",
        "print('\\nModelo SVM:')\n",
        "print('Matriz de confusión:')\n",
        "print(cm_svm)\n",
        "print('Precisión:', precision_svm)\n",
        "print('Recall:', recall_svm)\n",
        "print('F1-score:', f1_score_svm)\n",
        "\n",
        "# Ensamble de modelos\n",
        "ensemble_model = VotingClassifier(estimators=[('knn', knn), ('svm', svm)], voting='hard')\n",
        "ensemble_model.fit(X_train, y_train)\n",
        "y_pred_ensemble = ensemble_model.predict(X_test)\n",
        "\n",
        "# Evaluación del modelo ensamblado\n",
        "cm_ensemble = confusion_matrix(y_test, y_pred_ensemble)\n",
        "precision_ensemble, recall_ensemble, f1_score_ensemble, _ = precision_recall_fscore_support(y_test, y_pred_ensemble)\n",
        "\n",
        "# Imprimir los resultados\n",
        "print('\\nModelo Ensamblado (Votación Mayoritaria):')\n",
        "print('Matriz de confusión:')\n",
        "print(cm_ensemble)\n",
        "print('Precisión:', precision_ensemble)\n",
        "print('Recall:', recall_ensemble)\n",
        "print('F1-score:', f1_score_ensemble)\n",
        "\n",
        "print('\\nConclusión:')\n",
        "print('El modelo KNN y SVM obtuvieron mejores resultados que los modelos Decision Tree y Naive Bayes. El modelo ensamblado, utilizando la votación mayoritaria, logró un mejor desempeño que los modelos individuales.')"
      ]
    }
  ]
}